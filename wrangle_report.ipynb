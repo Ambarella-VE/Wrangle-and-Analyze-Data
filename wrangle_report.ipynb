{
 "cells": [
  {
   "cell_type": "markdown",
   "metadata": {},
   "source": [
    "# WeRateDogs ([@dog_rates][1]) - Insights\n",
    "> _By Ambar Canonicco_\n",
    "***\n",
    "[1]:https://twitter.com/dog_rates \"WeRateDogs Twitter Account\""
   ]
  },
  {
   "cell_type": "markdown",
   "metadata": {},
   "source": [
    "<a id='table_of_contents'></a>\n",
    "### Table of Contents\n",
    "- [Introduction][1]\n",
    "- [Gathering Data][2]\n",
    "- [Assessing and Cleaning Data][3]\n",
    "- [Analyzing Data][5]\n",
    "- [Conclusion][7]\n",
    "\n",
    "[1]:#introduction\n",
    "[2]:#gather\n",
    "[3]:#assess\n",
    "[4]:#clean\n",
    "[5]:#analysis\n",
    "[7]:#conclusion"
   ]
  },
  {
   "cell_type": "markdown",
   "metadata": {},
   "source": [
    "<a id='introduction'></a>\n",
    "### Introduction\n",
    "\n",
    "Real-world data rarely comes clean. Using Python and its libraries, I gathered data from a variety of sources and in a variety of formats, assessed its quality and tidiness, then cleaned it. This is called data wrangling.\n",
    "\n",
    "The dataset that I cleaned and analised is the tweet archive of Twitter user @dog_rates, also known as WeRateDogs. WeRateDogs is a Twitter account that rates people's dogs with a humorous comment about the dog. These ratings almost always have a denominator of 10. The numerators, though? Almost always greater than 10. 11/10, 12/10, 13/10, etc.  Why? ```◖ᵔᴥᵔ◗``` Because \"they're good dogs Brent.\"  [```# knowyourmeme```][1] \n",
    "\n",
    "> WeRateDogs has over 8 million followers and has received international media coverage\n",
    "\n",
    "[1]: https://knowyourmeme.com/memes/theyre-good-dogs-brent"
   ]
  },
  {
   "cell_type": "markdown",
   "metadata": {},
   "source": [
    "<img src=\"https://video.udacity-data.com/topher/2017/October/59dd378f_dog-rates-social/dog-rates-social.jpg\">\n",
    "\n",
    "Image via [Boston Magazine][1]\n",
    "\n",
    "[1]:http://www.bostonmagazine.com/arts-entertainment/blog/2017/04/18/dog-rates-mit/"
   ]
  },
  {
   "cell_type": "markdown",
   "metadata": {},
   "source": [
    "<a id='gather'></a>\n",
    "### Gathering Data\n",
    "\n",
    "To start this project I gathered all the files collected and import it into a jupyter notebook so I can work with the data. \n",
    "\n",
    "I started with the WeRateDogs twitter archive, which has been provided to me as a .csv file. The WeRateDogs Twitter archive contains basic tweet data for all 5000+ of their tweets, but not everything. One column the archive does contained though: each tweet's text, which was used to extrac rating, dog name, and dog \"stage\" (i.e. doggo, floofer, pupper, and puppo) to make this Twitter archive \"enhanced\".\n",
    "\n",
    "I programmatically downloaded a tweet image prediction file with a URL that I received. The results: a table full of image predictions (the top three only) alongside each tweet ID, image URL, and the image number that corresponded to the most confident prediction (numbered 1 to 4 since tweets can have up to four images).\n",
    "\n",
    "Back to the basic-ness of Twitter archives: retweet count and favorite count are two of the notable column omissions. Fortunately, this additional data can be gathered from Twitter's API. Well, \"anyone\" who has access to data for the 3000 most recent tweets, at least. But I, because I had the WeRateDogs Twitter archive and specifically the tweet IDs within it, I was able to gather this data for all 5000+. And guess what? I queried Twitter's API to gather this valuable data using the Tweepy library."
   ]
  },
  {
   "cell_type": "markdown",
   "metadata": {},
   "source": [
    "<a id='assess'></a>\n",
    "### Assessing and Cleaning Data\n",
    "\n",
    "During this phase I went to take a closer look at the data to assess issues with the quality of the data, which can be expanded into the four main dimensions of data quality:\n",
    "\n",
    "|            | Completeness | Validity | Accuracy | Consistency |\n",
    "| ---------: | :--          | :--      | :--      | :--         |\n",
    "| **Issues** | Missing data | Data that makes no sense for the observation | Even though it could be valid and make sense, data that is not true or do not belong to the observation |The data may be correct but is not formatted in the same way, is not standarized across de dataset | \n",
    "\n",
    "On the other hand, we encountered with untidy data, which is more reffered to messy and not-user-friendly data. The information may be complete, valid, accurate and consistent, but it is not readable, cannot be analised an/or cannot be matched with other datasets. Meaning, in general, issues with data structure or semantics. We learned that *Each variable must have its own column, each observation must have its own row, and each type of observational unit should be stored in its own table.*"
   ]
  },
  {
   "cell_type": "markdown",
   "metadata": {},
   "source": [
    "> _I was requested to identify and clean at least 8 quality issues and at least 2 tidiness issues in this dataset._\n",
    "\n",
    "- Quality issues\n",
    "    1. Columns ```contributors, coordinates, geo, quoted_status, quoted_status_id, quoted_status_id_str, place, quoted_status_permalink``` are empty.\n",
    "    1. Twenty-three tweets are replies.\n",
    "    1. Dogs names column have 'none' and letters that do not form words.\n",
    "    1. The ```timestamp``` column is stored as string.\n",
    "    1. Also this after the time ends with a '+0000' string.\n",
    "    1. Dog breed image predictons ```p1, p2, p3``` contains predictions of items that are not dog breeds.\n",
    "    1. These predictions have inconsistently in upper, lower or title cases.\n",
    "    1. Additionally, have underscores for spaces when breeds, or other rare stuff, have more than one word.\n",
    "    1. Seventy-two tweets are retweets.\n",
    "    1. Max numerator is 1776.\n",
    "    1. The tweet_id is stored as int.\n",
    "    1. In the ```rating_denominator``` column, though they are usually /10, there are 15 different ratings up to 170.\n",
    "    1. The ```possibly_sensitive``` and ```possibly_sensitive_appealable``` columns are all zeros.\n",
    "\n",
    "<br />\n",
    "\n",
    "- Tidiness issues\n",
    "    1. Columns ```text``` and ```full_text``` may be the same.\n",
    "    1. Our three raw datasets belong to the same type of observational unit \"a tweet\".\n",
    "    1. There is a variable that we will call ```dog_stage``` that is spread in 4 columns ```doggo, floofer, pupper and puppo```.\n",
    "    1. The ```columns entities``` and ```extended_entities``` has a dictionary within each cell.\n",
    "    1. ```user``` column hides very interesting information on the user.\n",
    "    1. As all of the tweets are from the same user, this information should go in a different table. \n",
    "\n",
    "<br />\n",
    "\n",
    "These observations above were noted after joining all the data together in the same data frame and may have been completed in different times of the assessing process. ```•ᴗ•```\n",
    "\n",
    "<br />"
   ]
  },
  {
   "cell_type": "markdown",
   "metadata": {},
   "source": [
    "<a id='analysis'></a>\n",
    "### Analyzing Data and Sharing Insights\n",
    "\n",
    "After completing the process of assessing and cleaning the data, I started playing with the dataset to investigate the information within it, understand it and get relevant insights from the dataset. I found out a couple of interesting things.\n",
    "\n",
    "To begin, I decided to check the behavior of the followers of WeRateDogs while I was running the twitter API. By the starting point, the accound had the maximum followers count for the period, with 8.772.134 followers, and this number fluctuated during the following minutes by 751 points, going up and down, being the minimum 8.771.383 followers by the end of this period. The odd thing about this is how many times it went 751 points up and down in so few minutes. It was like 751 people were playing with the \"follow\" button te see how many spikes I would have in my chart."
   ]
  },
  {
   "cell_type": "markdown",
   "metadata": {},
   "source": [
    "<img src=\"followers-count.png\">"
   ]
  },
  {
   "cell_type": "markdown",
   "metadata": {},
   "source": [
    "Then I went over to check the number of dog rates that was published every two weeks in the twitter account of WeRateDogs, and it is evident that the account was trying to get as much followers as possible at the begining, publishing over 250 rates every 2 weeks. After just a couple of months that number dropped cosiderably and stayed between 20 and 50 rates every 2 weeks for the next few years. This behavior was observed for the period for which we  have information, approximately between winter of 2015 and summer of 2017."
   ]
  },
  {
   "cell_type": "markdown",
   "metadata": {},
   "source": [
    "<img src=\"tweets-count.png\">"
   ]
  },
  {
   "cell_type": "markdown",
   "metadata": {},
   "source": [
    "Another random fact that I had fun with just thinking about it, was to find the most common initial in the rated dogs names. There are dog names with almost every letter in the alphabet, missing only I think the X. But the winners here are the B, C and S.. with over 120 dogs rated for each letter! More than 120 rated whose names began with the letter B, more than 120 rated whose names began with the letter C, and te same for S! It may not be a critical information from this data, but I found it out interesting to tell. ```¯\\_(ツ)_/¯``` "
   ]
  },
  {
   "cell_type": "markdown",
   "metadata": {},
   "source": [
    "<img src=\"initials.png\">"
   ]
  },
  {
   "cell_type": "markdown",
   "metadata": {},
   "source": [
    "The best for the end, of course this is a data were WeRateDogs, then I think everyone wants to know who the best rated dogs are.\n",
    "I would like to start the awards with the best rated dog breeds in each dog stage, which they are 'doggo', 'puppo', 'floofer' and 'pupper'. In the Doggo category we have a tie between the Irish Setter and the Pembroke, both with a rating of 1.4. For the Puppo stage, the winner is the Rottweiler with a rating of 1.4. Followed by the Black-and-ran Coonhound rated with 1.4 as a Pupper, and finally, another tie for the Floofer stage with a rating of 1.3, we have the Chow and the Samoyed."
   ]
  },
  {
   "cell_type": "markdown",
   "metadata": {},
   "source": [
    "> The top rated breeds for each dog stage are the following:\n",
    "\n",
    "| Doggo | Puppo | Floofler | Pupper |\n",
    "| --- | --- | --- | --- |\n",
    "| Irish Setter : 1.40 |Rottweiler : 1.40 | Chow: 1.30 | Black-and-tan Coonhound : 1.40 |\n",
    "| Pembroke : 1.40 | &#xfeff; | Samoyed : 1.30 | &#xfeff; |"
   ]
  },
  {
   "cell_type": "markdown",
   "metadata": {},
   "source": [
    "So this are the best rated breeds? Actually, no. The issue with this data, is that not all the rates contain the dog stage information, in fact, only 16.29% of the rates included the dog stage. For that matter, the previous award is not that well deserved. Let's keep the quest to find the best rated breeds then!"
   ]
  },
  {
   "cell_type": "markdown",
   "metadata": {},
   "source": [
    "There are 15.53% of rated dogs whose breeds we do not know, I do not think that this would be relevant to the result which says that the most common rated dog breed is the Golden Retriever ```#WeLoveGolden```. But wait, I want to know who the best rated dogs are, and we are going to find it!"
   ]
  },
  {
   "cell_type": "markdown",
   "metadata": {},
   "source": [
    "<img src=\"breeds.png\">"
   ]
  },
  {
   "cell_type": "markdown",
   "metadata": {},
   "source": [
    "For the top 3 dogs I will go from bottom to top, for the top 3 in third place we have... Sam! \"She smiles 24/7\", this is a Golden Retriever."
   ]
  },
  {
   "cell_type": "markdown",
   "metadata": {},
   "source": [
    "<img src=\"Sam-top3-dog.png\">"
   ]
  },
  {
   "cell_type": "markdown",
   "metadata": {},
   "source": [
    "In second place we have...\n",
    "...wait what? This is Snoop Dogg, ```☜(⌒▽⌒)☞``` this is a \"Good Dogg\". I do not think there is a breed for Snoop Dogg, don't you think?"
   ]
  },
  {
   "cell_type": "markdown",
   "metadata": {},
   "source": [
    "<img src=\"None-top2-dog.png\">"
   ]
  },
  {
   "cell_type": "markdown",
   "metadata": {},
   "source": [
    "Finally, the last but not least, we have the best of the bests, the guardian of lost souls, the powerful, the pleasurable, the indestructible... Atticus! \"He's quite simply America\". Image recognition did not work with him because Atticus is fully dressed, but I bet he is a Golden Retriver!"
   ]
  },
  {
   "cell_type": "markdown",
   "metadata": {},
   "source": [
    "<img src=\"Atticus-top1-dog.png\">"
   ]
  },
  {
   "cell_type": "markdown",
   "metadata": {},
   "source": [
    "<a id='conclusion'></a>\n",
    "### Conclusion\n",
    "\n",
    "What is at the eyesight does not need glasses. We can definately say the best rated dogs are **Golden Retrievers**. Why? ```◖ᵔᴥᵔ◗``` Because \"they're good dogs Brent.\"\n",
    "\n",
    "[Go Back to the top][1]\n",
    "\n",
    "[1]:#table_of_contents"
   ]
  }
 ],
 "metadata": {
  "kernelspec": {
   "display_name": "Python 3",
   "language": "python",
   "name": "python3"
  },
  "language_info": {
   "codemirror_mode": {
    "name": "ipython",
    "version": 3
   },
   "file_extension": ".py",
   "mimetype": "text/x-python",
   "name": "python",
   "nbconvert_exporter": "python",
   "pygments_lexer": "ipython3",
   "version": "3.6.3"
  }
 },
 "nbformat": 4,
 "nbformat_minor": 4
}
